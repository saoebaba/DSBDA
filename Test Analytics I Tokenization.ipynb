{
 "cells": [
  {
   "cell_type": "code",
   "execution_count": 1,
   "id": "6a27c183",
   "metadata": {},
   "outputs": [],
   "source": [
    "import pandas as pd\n",
    "import nltk\n",
    "import re\n",
    "from nltk.tokenize import sent_tokenize\n",
    "from nltk.tokenize import word_tokenize\n",
    "from nltk.corpus import stopwords\n",
    "from nltk.stem import PorterStemmer\n",
    "from nltk.stem import WordNetLemmatizer\n",
    "from nltk.tokenize import word_tokenize"
   ]
  },
  {
   "cell_type": "code",
   "execution_count": 2,
   "id": "1489baba",
   "metadata": {},
   "outputs": [
    {
     "name": "stderr",
     "output_type": "stream",
     "text": [
      "[nltk_data] Downloading package punkt to\n",
      "[nltk_data]     C:\\Users\\Acer\\AppData\\Roaming\\nltk_data...\n",
      "[nltk_data]   Unzipping tokenizers\\punkt.zip.\n",
      "[nltk_data] Downloading package stopwords to\n",
      "[nltk_data]     C:\\Users\\Acer\\AppData\\Roaming\\nltk_data...\n",
      "[nltk_data]   Unzipping corpora\\stopwords.zip.\n",
      "[nltk_data] Downloading package wordnet to\n",
      "[nltk_data]     C:\\Users\\Acer\\AppData\\Roaming\\nltk_data...\n",
      "[nltk_data] Downloading package averaged_perceptron_tagger to\n",
      "[nltk_data]     C:\\Users\\Acer\\AppData\\Roaming\\nltk_data...\n",
      "[nltk_data]   Unzipping taggers\\averaged_perceptron_tagger.zip.\n"
     ]
    },
    {
     "data": {
      "text/plain": [
       "True"
      ]
     },
     "execution_count": 2,
     "metadata": {},
     "output_type": "execute_result"
    }
   ],
   "source": [
    "nltk.download('punkt')\n",
    "nltk.download('stopwords')\n",
    "nltk.download('wordnet')\n",
    "nltk.download('averaged_perceptron_tagger')"
   ]
  },
  {
   "cell_type": "code",
   "execution_count": 4,
   "id": "ad770ad4",
   "metadata": {},
   "outputs": [],
   "source": [
    "text=\"Tokenization is the first step in text analytics. The process of breaking down a text paragraph into smaller chunks such as words or sentences is called Tokenization.\""
   ]
  },
  {
   "cell_type": "code",
   "execution_count": 6,
   "id": "bae28bbd",
   "metadata": {},
   "outputs": [
    {
     "name": "stdout",
     "output_type": "stream",
     "text": [
      "['Tokenization is the first step in text analytics.', 'The process of breaking down a text paragraph into smaller chunks such as words or sentences is called Tokenization.']\n",
      "['Tokenization', 'is', 'the', 'first', 'step', 'in', 'text', 'analytics', '.', 'The', 'process', 'of', 'breaking', 'down', 'a', 'text', 'paragraph', 'into', 'smaller', 'chunks', 'such', 'as', 'words', 'or', 'sentences', 'is', 'called', 'Tokenization', '.']\n"
     ]
    }
   ],
   "source": [
    "#sentence tokenization\n",
    "tokenized_text=sent_tokenize(text)\n",
    "print(tokenized_text)\n",
    "#word tokenization\n",
    "tokenized_word=word_tokenize(text)\n",
    "print(tokenized_word)\n"
   ]
  },
  {
   "cell_type": "code",
   "execution_count": 8,
   "id": "12ea21b0",
   "metadata": {},
   "outputs": [
    {
     "name": "stdout",
     "output_type": "stream",
     "text": [
      "{'just', 'its', 'theirs', 'have', 'wouldn', 'an', \"doesn't\", 'because', 'about', 'out', 'and', 'she', 'can', 'such', \"hasn't\", 'when', 'him', 'for', 'herself', \"aren't\", \"didn't\", \"you'll\", 'will', \"won't\", 'few', 'shan', 'but', 'by', 'only', 'as', 'from', \"wasn't\", \"mightn't\", 'to', 'it', 'our', 'into', 't', 'than', \"wouldn't\", 'weren', 'then', 'of', 'do', 'above', 'd', \"she's\", 'up', 'me', 'don', 'with', \"you'd\", 'after', \"needn't\", 'itself', 'ain', 'if', 'mightn', 'mustn', 'were', 'that', 'is', 'ma', 'while', 'doing', 'doesn', 'hadn', 'here', 'themselves', 'below', 'too', 'a', \"shan't\", \"haven't\", 'didn', \"isn't\", 'between', 'there', 'any', 'was', 'against', 'wasn', 'again', 'myself', 'm', 'ours', 'hers', 'once', 'on', \"don't\", 'where', 'o', 'so', 're', 'each', 'this', 'over', 'be', 'your', \"should've\", \"shouldn't\", 'before', 'more', 'which', 'being', 'further', 'these', \"that'll\", 'until', 'yours', 'some', 'under', \"mustn't\", 'haven', 'not', 'what', 'them', 'has', 'or', 'ourselves', 'my', 'same', 'couldn', 'they', 'needn', 'been', 'her', \"hadn't\", \"you've\", 'himself', 'his', 'their', 'why', 'll', 'very', 'shouldn', 's', 'most', \"it's\", 'yourself', 'are', 'own', 'all', 'at', 'hasn', 'who', 'having', 'how', 'had', 'you', \"you're\", 'am', 'nor', 'whom', 'off', 'won', 've', 'yourselves', 'now', \"couldn't\", 'both', 'during', 'those', 'should', 'did', 'other', 'we', 'in', 'aren', 'isn', 'i', \"weren't\", 'the', 'he', 'no', 'down', 'y', 'through', 'does'}\n",
      "Tokenized Sentence: ['how', 'to', 'remove', 'stop', 'words', 'with', 'nltk', 'library', 'in', 'python']\n",
      "Filtered Sentence: ['remove', 'stop', 'words', 'nltk', 'library', 'python']\n"
     ]
    }
   ],
   "source": [
    "#Print stop words of english\n",
    "stop_words=set(stopwords.words(\"english\"))\n",
    "print(stop_words)\n",
    "text=\"How to remove stop words with NLTK library in Python?\"\n",
    "text=re.sub('[^a-zA-Z]',' ',text)\n",
    "tokens=word_tokenize(text.lower())\n",
    "filtered_text=[]\n",
    "for w in tokens:\n",
    "    if w not in stop_words:\n",
    "        filtered_text.append(w)\n",
    "print(\"Tokenized Sentence:\",tokens)\n",
    "print(\"Filtered Sentence:\",filtered_text)"
   ]
  },
  {
   "cell_type": "code",
   "execution_count": 9,
   "id": "38d613cd",
   "metadata": {},
   "outputs": [
    {
     "name": "stdout",
     "output_type": "stream",
     "text": [
      "wait\n"
     ]
    }
   ],
   "source": [
    "#Stemming\n",
    "e_words=[\"wait\",\"waiting\",\"waited\",\"waits\"]\n",
    "ps=PorterStemmer()\n",
    "for w in e_words:\n",
    "    rootWord=ps.stem(w)\n",
    "print(rootWord)\n"
   ]
  },
  {
   "cell_type": "code",
   "execution_count": null,
   "id": "01cbcc5b",
   "metadata": {},
   "outputs": [],
   "source": []
  },
  {
   "cell_type": "code",
   "execution_count": 13,
   "id": "30cb48c9",
   "metadata": {},
   "outputs": [
    {
     "name": "stdout",
     "output_type": "stream",
     "text": [
      "[('The', 'DT')]\n",
      "[('pink', 'NN')]\n",
      "[('sweater', 'NN')]\n",
      "[('fit', 'NN')]\n",
      "[('her', 'PRP$')]\n",
      "[('perfectly', 'RB')]\n"
     ]
    }
   ],
   "source": [
    "#Pos tagging\n",
    "data=\"The pink sweater fit her perfectly\"\n",
    "words=word_tokenize(data)\n",
    "for word in words:\n",
    "    print(nltk.pos_tag([word]))\n"
   ]
  },
  {
   "cell_type": "code",
   "execution_count": 14,
   "id": "538aa42d",
   "metadata": {},
   "outputs": [],
   "source": [
    "import pandas as pd\n",
    "from sklearn.feature_extraction.text import TfidfVectorizer\n",
    "import math\n"
   ]
  },
  {
   "cell_type": "code",
   "execution_count": 16,
   "id": "5fb0878e",
   "metadata": {},
   "outputs": [],
   "source": [
    "documentA='Jupiter is the largest Planet'\n",
    "documentB='Mars is the fourth planet from the Sun'\n",
    "bagOfWordsA=documentA.split(' ')\n",
    "bagOfWordsB=documentB.split(' ')\n",
    "uniqueWords=set(bagOfWordsA).union(set(bagOfWordsB))\n",
    "numOfWordsA=dict.fromkeys(uniqueWords,0)\n",
    "for word in bagOfWordsA:\n",
    "    numOfWordsA[word]+=1\n",
    "    numOfWordsB=dict.fromkeys(uniqueWords,0)\n",
    "for word in bagOfWordsB:\n",
    "    numOfWordsB[word]+=1"
   ]
  },
  {
   "cell_type": "code",
   "execution_count": 17,
   "id": "f49f8c9d",
   "metadata": {},
   "outputs": [],
   "source": [
    "def computeTF(wordDict,bagOfWords):\n",
    "    tfDict={}\n",
    "    bagOfWordsCount = len(bagOfWords)\n",
    "    for word, count in wordDict.items():\n",
    "        tfDict[word] = count / float(bagOfWordsCount)\n",
    "    return tfDict\n",
    "tfA = computeTF(numOfWordsA, bagOfWordsA)\n",
    "tfB = computeTF(numOfWordsB, bagOfWordsB)"
   ]
  },
  {
   "cell_type": "code",
   "execution_count": 18,
   "id": "416d6e66",
   "metadata": {},
   "outputs": [
    {
     "data": {
      "text/plain": [
       "{'from': 0.6931471805599453,\n",
       " 'the': 0.0,\n",
       " 'is': 0.0,\n",
       " 'Mars': 0.6931471805599453,\n",
       " 'Jupiter': 0.6931471805599453,\n",
       " 'Sun': 0.6931471805599453,\n",
       " 'fourth': 0.6931471805599453,\n",
       " 'largest': 0.6931471805599453,\n",
       " 'planet': 0.6931471805599453,\n",
       " 'Planet': 0.6931471805599453}"
      ]
     },
     "execution_count": 18,
     "metadata": {},
     "output_type": "execute_result"
    }
   ],
   "source": [
    "def computeIDF(documents):\n",
    "    N = len(documents)\n",
    "    idfDict = dict.fromkeys(documents[0].keys(), 0)\n",
    "    for document in documents:\n",
    "        for word, val in document.items():\n",
    "            if val > 0:\n",
    "                idfDict[word] += 1\n",
    "    for word, val in idfDict.items():\n",
    "        idfDict[word] = math.log(N / float(val))\n",
    "    return idfDict\n",
    "idfs = computeIDF([numOfWordsA, numOfWordsB])\n",
    "idfs"
   ]
  },
  {
   "cell_type": "code",
   "execution_count": null,
   "id": "d4f30d0d",
   "metadata": {},
   "outputs": [],
   "source": []
  }
 ],
 "metadata": {
  "kernelspec": {
   "display_name": "Python 3 (ipykernel)",
   "language": "python",
   "name": "python3"
  },
  "language_info": {
   "codemirror_mode": {
    "name": "ipython",
    "version": 3
   },
   "file_extension": ".py",
   "mimetype": "text/x-python",
   "name": "python",
   "nbconvert_exporter": "python",
   "pygments_lexer": "ipython3",
   "version": "3.9.13"
  }
 },
 "nbformat": 4,
 "nbformat_minor": 5
}
